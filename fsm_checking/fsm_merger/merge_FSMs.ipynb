{
 "cells": [
  {
   "attachments": {},
   "cell_type": "markdown",
   "metadata": {},
   "source": [
    "\n",
    "Copyright (c) 2022 Imtiaz Karim & Abdullah Al Ishtiaq\n",
    "\n",
    "Licensed under the Apache License, Version 2.0 (the \"License\");\n",
    "you may not use this file except in compliance with the License.\n",
    "You may obtain a copy of the License at\n",
    "\n",
    "    http://www.apache.org/licenses/LICENSE-2.0\n",
    "\n",
    "Unless required by applicable law or agreed to in writing, software\n",
    "distributed under the License is distributed on an \"AS IS\" BASIS,\n",
    "WITHOUT WARRANTIES OR CONDITIONS OF ANY KIND, either express or implied.\n",
    "See the License for the specific language governing permissions and\n",
    "limitations under the License.\n"
   ]
  },
  {
   "cell_type": "code",
   "execution_count": null,
   "metadata": {
    "collapsed": true,
    "pycharm": {
     "name": "#%%\n"
    }
   },
   "outputs": [],
   "source": [
    "from collections import defaultdict\n",
    "import sys\n",
    "import os"
   ]
  },
  {
   "cell_type": "markdown",
   "metadata": {},
   "source": []
  },
  {
   "cell_type": "code",
   "execution_count": null,
   "metadata": {
    "collapsed": false,
    "pycharm": {
     "name": "#%%\n"
    }
   },
   "outputs": [],
   "source": [
    "LL_DOT_FILENAME = \"input/anonymous_device_ll.dot\"\n",
    "SMP_DOT_FILENAME = \"input/anonymous_device_smp.dot\"\n",
    "RECON_DOT_FILENAME = \"input/anonymous_device_re.dot\"\n",
    "\n",
    "OUTPUT_FILENAME = \"anonymous_device_merged.dot\"\n"
   ]
  },
  {
   "cell_type": "code",
   "execution_count": null,
   "metadata": {
    "collapsed": false,
    "pycharm": {
     "name": "#%%\n"
    }
   },
   "outputs": [],
   "source": [
    "LL_FINAL_IN_SYMBOL = \"pair_req\"\n",
    "LL_FINAL_OUT_SYMBOL = \"pair_resp\"\n",
    "SMP_FINAL_IN_SYMBOL = \"dh_check\"\n",
    "SMP_FINAL_OUT_SYMBOL = \"dh_key_response\"\n",
    "\n",
    "#print(ll_graph.print())\n",
    "#print(ll_graph.get_nodes())\n",
    "#print(ll_graph.get_root())\n",
    "#print(ll_graph.find_target_states('pair_resp'))"
   ]
  },
  {
   "cell_type": "code",
   "execution_count": null,
   "metadata": {
    "collapsed": false,
    "pycharm": {
     "name": "#%%\n"
    }
   },
   "outputs": [],
   "source": [
    "replace_dict = {\n",
    "    \"feature_req_none\": \"feature_none_req\",\n",
    "    \"mtu_req_llid_zero\": \"mtu_llid_zero_req\",\n",
    "    \"mtu_req_mtu_zero\": \"mtu_mtu_zero_req\",\n",
    "    \"length_req_time_zero\": \"length_time_zero_req\",\n",
    "    \"length_req_rx_tx_zero\": \"length_rx_tx_zero_req\",\n",
    "    \"con_req_interval_zero\": \"con_interval_zero_req\",\n",
    "    \"con_req_crc_zero\": \"con_crc_zero_req\",\n",
    "    \"con_req_length_zero\": \"con_length_zero_req\",\n",
    "    \"con_req_channel_map_zero\": \"con_channel_map_zero_req\",\n",
    "    \"con_req_timeout_zero\": \"con_timeout_zero_req\",\n",
    "    \"version_req_llid_zero\": \"version_llid_zero_req\",\n",
    "    \"version_req_max_len\": \"version_max_len_req\",\n",
    "    \"pair_req_oob\": \"pair_oob_req\",\n",
    "    \"pair_req_keyboard_display\": \"pair_keyboard_display_req\",\n",
    "    \"pair_req_display_yes_no\": \"pair_display_yes_no_req\",\n",
    "    \"pair_req_no_sc\": \"pair_no_sc_req\",\n",
    "    \"pair_req_no_sc_keyboard_display\": \"pair_keyboard_display_no_sc_req\",\n",
    "    \"pair_req_no_sc_display_yes_no\": \"pair_display_yes_no_no_sc_req\",\n",
    "    \"pair_req_key_zero\": \"pair_key_zero_req\",\n",
    "    \"key_exchange_invalid\": \"key_invalid_exchange\",\n",
    "    \"dh_check_invalid\": \"dh_invalid_check\",\n",
    "    \"pair_confirm_wrong_value\": \"pair_wrong_value_confirm\",\n",
    "    \"enc_pause_resp_plain\": \"enc_plain_pause_resp\",\n",
    "    \"enc_pause_req_plain\": \"enc_plain_pause_req\",\n",
    "    \"start_enc_resp_plain\": \"start_enc_plain_resp\"\n",
    "}"
   ]
  },
  {
   "cell_type": "code",
   "execution_count": null,
   "metadata": {
    "collapsed": false,
    "pycharm": {
     "name": "#%%\n"
    }
   },
   "outputs": [],
   "source": [
    "class FSMGraph:\n",
    "    def __init__(self):\n",
    "        self.edges = defaultdict(list)\n",
    "        self.root = None\n",
    "\n",
    "    def set_root(self, root):\n",
    "        self.root = root\n",
    "\n",
    "    def get_root(self):\n",
    "        return self.root\n",
    "\n",
    "    def add_edge(self, u, v, in_symbol, out_symbol):\n",
    "        self.edges[u].append((v, in_symbol, out_symbol))\n",
    "\n",
    "    def get_edges(self):\n",
    "        return self.edges\n",
    "\n",
    "    def get_edges_at(self, node):\n",
    "        return self.get_edges()[node]\n",
    "\n",
    "    def get_nodes(self):\n",
    "        return list(self.get_edges().keys())\n",
    "\n",
    "    def get_num_nodes(self):\n",
    "        return len(self.get_nodes())\n",
    "\n",
    "    def print(self):\n",
    "        return self.get_edges()\n",
    "\n",
    "    def dot2graph(self, dot_filename, node_prefix):\n",
    "        dot_file = open(dot_filename, 'r')\n",
    "        dot_file_lines = dot_file.readlines()\n",
    "        dot_file.close()\n",
    "\n",
    "        for line in dot_file_lines:\n",
    "            if \"->\" in line:\n",
    "                line_splits = line.strip().split()\n",
    "                node1 = node_prefix+line_splits[0]\n",
    "                node2 = node_prefix+line_splits[2]\n",
    "\n",
    "                if \"__start0\" in node1:\n",
    "                    self.set_root(node2.replace(\";\",\"\"))\n",
    "                    continue\n",
    "\n",
    "                in_symbol = line_splits[3].replace(\"[label=\\\"\", \"\").strip()\n",
    "                if in_symbol in replace_dict:\n",
    "                    in_symbol = replace_dict[in_symbol]\n",
    "\n",
    "                out_symbol = line_splits[5].replace(\"\\\"];\", \"\").strip()\n",
    "\n",
    "                self.add_edge(node1, node2, in_symbol, out_symbol)\n",
    "\n",
    "    def BFS_distance(self):\t\t\t\t\t\t\t# Function to print a BFS of graph\n",
    "        if self.root is None:\n",
    "            print(\"Graph not initialized properly\")\n",
    "            return None\n",
    "\n",
    "        all_edges = self.get_edges()\n",
    "        all_nodes = list(all_edges.keys())\n",
    "\n",
    "        s = self.root\n",
    "        queue = []\t\t\t\t\t\t\t\t# Create a queue for BFS\n",
    "        distance_dict = {}\t\t\t\t\t\t# distance dictionary\n",
    "\n",
    "        visited = {} \t\t\t\t\t\t\t# Mark all the vertices as not visited\n",
    "        for k in list(all_nodes):\n",
    "            visited[k] = False\n",
    "\n",
    "        distance_dict[s] = 0\n",
    "        visited[s] = True\t\t\t\t\t\t# Mark the source node as visited and enqueue it\n",
    "        queue.append(s)\n",
    "\n",
    "        while queue:\n",
    "            s = queue.pop(0)\t\t\t\t\t# Dequeue a vertex from queue and print it\n",
    "            # print (s)\n",
    "            for edge in all_edges[s]:\n",
    "                v, _, _ = edge\n",
    "                if visited[v] == False:\n",
    "                    queue.append(v)\n",
    "                    visited[v] = True\n",
    "                    distance_dict[v] = distance_dict[s]+1\n",
    "\n",
    "        return distance_dict\n",
    "\n",
    "    def find_target_states(self, target_in_symbol: str, target_out_symbol: str) -> list:\n",
    "        all_edges = self.get_edges()\n",
    "        all_nodes = list(all_edges.keys())\n",
    "\n",
    "        target_states = set()\n",
    "\n",
    "        for node in all_nodes:\n",
    "            for edge in all_edges[node]:\n",
    "                v, in_symbol, out_symbol = edge\n",
    "                if in_symbol == target_in_symbol and out_symbol == target_out_symbol:\n",
    "                    target_states.add(node)\n",
    "\n",
    "        return target_states\n",
    "\n",
    "    def find_furthest_target_state(self, target_in_symbol: str, target_out_symbol: str):\n",
    "        target_states = self.find_target_states(target_in_symbol, target_out_symbol)\n",
    "        distances = self.BFS_distance()\n",
    "\n",
    "        print(\"Found states :\", target_states)\n",
    "        print(\"Found distances :\", distances)\n",
    "\n",
    "        if len(target_states) < 1:\n",
    "            return \"\"\n",
    "\n",
    "        max_node = \"\"\n",
    "        max_dist = -1\n",
    "\n",
    "        for node in target_states:\n",
    "            if distances[node] > max_dist:\n",
    "                max_node = node\n",
    "                max_dist = distances[node]\n",
    "\n",
    "        return max_node\n",
    "\n",
    "    def BFS_plain(self):\t\t\t\t\t\t\t# Function to print a BFS of graph\n",
    "        if self.root is None:\n",
    "            print(\"Graph not initialized properly\")\n",
    "            return None\n",
    "\n",
    "        root = self.root\n",
    "        all_edges = self.get_edges()\n",
    "\n",
    "        queue = []\t\t\t\t\t\t\t\t# Create a queue for BFS\n",
    "        visited = set() \t\t\t\t\t\t# Mark all the vertices as not visited\n",
    "        queue.append(root)\n",
    "        visited.add(root) \t\t\t            # Mark the source node as visited and enqueue it\n",
    "\n",
    "        while queue:\n",
    "            s = queue.pop(0)\t\t\t\t\t# Dequeue a vertex from queue and print it\n",
    "\n",
    "            for edge in all_edges[s]:\n",
    "                k, _, _ = edge\n",
    "                if k not in visited:\n",
    "                    queue.append(k)\n",
    "                    visited.add(k)\n",
    "\n",
    "        return visited\n",
    "\n",
    "    def find_unreachable_nodes(self):\n",
    "        all_nodes = set(self.get_nodes())\n",
    "        reachable_nodes = self.BFS_plain()\n",
    "\n",
    "        unreachable_nodes = all_nodes.difference(reachable_nodes)\n",
    "        return unreachable_nodes\n",
    "\n",
    "    def remove_node(self, target_node):\n",
    "        del self.edges[target_node]\n",
    "\n",
    "        for node1 in list(self.get_nodes()):\n",
    "            new_edges = []\n",
    "            for edge in self.edges[node1]:\n",
    "                node2, in_symbol, out_symbol = edge\n",
    "                if node2 != target_node:\n",
    "                    new_edges.append((node2, in_symbol, out_symbol))\n",
    "            self.edges[node1] = new_edges\n",
    "\n",
    "        print(\"Done removing node\", target_node)\n",
    "\n",
    "\n",
    "    def remove_in_symbol(self, target_in_symbol):\n",
    "        for node1 in list(self.get_nodes()):\n",
    "            new_edges = []\n",
    "            for edge in self.edges[node1]:\n",
    "                node2, in_symbol, out_symbol = edge\n",
    "                if in_symbol != target_in_symbol:\n",
    "                    new_edges.append((node2, in_symbol, out_symbol))\n",
    "            self.edges[node1] = new_edges\n",
    "\n",
    "        unreachable_nodes = self.find_unreachable_nodes()\n",
    "        while len(unreachable_nodes) > 0:\n",
    "            for u_node in unreachable_nodes:\n",
    "                self.remove_node(u_node)\n",
    "            unreachable_nodes = self.find_unreachable_nodes()\n",
    "\n",
    "        print(\"Done removing symbol\", target_in_symbol)\n",
    "\n",
    "    def add_fsm(self, final_in_symbol: str, final_out_symbol:str, next_fsm, transition_in_symbol = \"\", transition_out_symbol = \"\"):\n",
    "        final_state = self.find_furthest_target_state(final_in_symbol, final_out_symbol)\n",
    "        if final_state == \"\":\n",
    "            print(\"Cannot find target state\")\n",
    "            return\n",
    "\n",
    "        final_states = [final_state]\n",
    "\n",
    "        self_states = self.get_nodes()\n",
    "        next_fsm_states = next_fsm.get_nodes()\n",
    "        next_fsm_root = next_fsm.get_root()\n",
    "        next_fsm_edges = next_fsm.get_edges()\n",
    "\n",
    "        if(len(set(self_states).intersection(set(next_fsm_states)))) > 0:\n",
    "            print(\"Change state names. Initialize with different prefixes...\")\n",
    "            print(\"Merge failed...\")\n",
    "            return\n",
    "\n",
    "        # copy next fsm root state behavior to final states\n",
    "        if transition_in_symbol == \"\" or transition_out_symbol == \"\":\n",
    "            self.remove_in_symbol(final_in_symbol)          # avoid conflict\n",
    "            for f_state in final_states:\n",
    "                for edge in next_fsm_edges[next_fsm_root]:\n",
    "                    self.edges[f_state].append(edge)\n",
    "\n",
    "            del next_fsm_edges[next_fsm_root]\n",
    "            self.edges.update(next_fsm_edges)\n",
    "\n",
    "            for state in self.edges:\n",
    "                for idx, edge in enumerate(self.edges[state]):\n",
    "                    v, in_symbol, out_symbol = edge\n",
    "                    if v == next_fsm_root:\n",
    "                        self.edges[state][idx] = (final_states[0], in_symbol, out_symbol)\n",
    "\n",
    "        # add transition to next fsm root state\n",
    "        else:\n",
    "            for f_state in final_states:\n",
    "                self.edges[f_state].append((next_fsm_root, transition_in_symbol, transition_out_symbol))\n",
    "            self.edges.update(next_fsm_edges)\n",
    "\n",
    "        print(\"FSM Merged -> final_in_symbol :\", final_in_symbol, \", final_out_symbol :\", final_out_symbol, \", final states :\", final_states)\n",
    "\n",
    "\n",
    "    def graph2dot(self, output_filename):\n",
    "        out_file = open(output_filename, 'w')\n",
    "\n",
    "        out_file.write(\"digraph g {\\n\")\n",
    "        out_file.write(\"__start0 [label=\\\"\\\" shape=\\\"none\\\"];\\n\")\n",
    "        out_file.write(\"\\n\")\n",
    "\n",
    "        all_nodes = self.get_nodes()\n",
    "        for node in all_nodes:\n",
    "            node = node.strip()\n",
    "            if node == \"\":\n",
    "                continue\n",
    "            out_str = \"\\t{} [shape=\\\"circle\\\" label=\\\"{}\\\"];\".format(node, node)\n",
    "            out_file.write(out_str+\"\\n\")\n",
    "        out_file.write(\"\\n\")\n",
    "\n",
    "        all_edges = self.get_edges()\n",
    "        for node in all_nodes:\n",
    "            for edge in all_edges[node]:\n",
    "                v, in_symbol, out_symbol = edge\n",
    "                out_str = \"\\t{} -> {} [label=\\\"{} / {}\\\"];\".format(node, v, in_symbol, out_symbol)\n",
    "                out_file.write(out_str+\"\\n\")\n",
    "            out_file.write(\"\\n\")\n",
    "\n",
    "        out_file.write(\"__start0 -> {};\\n\".format(self.get_root()))\n",
    "        out_file.write(\"}\\n\")\n",
    "\n",
    "        out_file.close()\n",
    "        print(\"Graph generated at :\", output_filename)\n",
    "        "
   ]
  },
  {
   "cell_type": "code",
   "execution_count": null,
   "metadata": {
    "collapsed": false,
    "pycharm": {
     "name": "#%%\n"
    }
   },
   "outputs": [],
   "source": []
  },
  {
   "cell_type": "code",
   "execution_count": null,
   "metadata": {
    "collapsed": false,
    "pycharm": {
     "name": "#%%\n"
    }
   },
   "outputs": [],
   "source": [
    "ll_graph = FSMGraph()\n",
    "ll_graph.dot2graph(LL_DOT_FILENAME, \"ll_\")\n",
    "\n",
    "\n"
   ]
  },
  {
   "cell_type": "code",
   "execution_count": null,
   "metadata": {
    "collapsed": false,
    "pycharm": {
     "name": "#%%\n"
    }
   },
   "outputs": [],
   "source": [
    "smp_graph = FSMGraph()\n",
    "smp_graph.dot2graph(SMP_DOT_FILENAME, \"smp_\")\n"
   ]
  },
  {
   "cell_type": "code",
   "execution_count": null,
   "metadata": {
    "collapsed": false,
    "pycharm": {
     "name": "#%%\n"
    }
   },
   "outputs": [],
   "source": [
    "recon_graph = FSMGraph()\n",
    "recon_graph.dot2graph(RECON_DOT_FILENAME, \"recon_\")\n"
   ]
  },
  {
   "cell_type": "code",
   "execution_count": null,
   "metadata": {
    "collapsed": false,
    "pycharm": {
     "name": "#%%\n"
    }
   },
   "outputs": [],
   "source": [
    "smp_graph.add_fsm(SMP_FINAL_IN_SYMBOL, SMP_FINAL_OUT_SYMBOL, recon_graph, \"discon_req\", \"null_action\")\n"
   ]
  },
  {
   "cell_type": "code",
   "execution_count": null,
   "metadata": {
    "collapsed": false,
    "pycharm": {
     "name": "#%%\n"
    }
   },
   "outputs": [],
   "source": []
  },
  {
   "cell_type": "code",
   "execution_count": null,
   "metadata": {
    "collapsed": false,
    "pycharm": {
     "name": "#%%\n"
    }
   },
   "outputs": [],
   "source": [
    "ll_graph.add_fsm(LL_FINAL_IN_SYMBOL, LL_FINAL_OUT_SYMBOL, smp_graph)\n"
   ]
  },
  {
   "cell_type": "code",
   "execution_count": null,
   "metadata": {
    "collapsed": false,
    "pycharm": {
     "name": "#%%\n"
    }
   },
   "outputs": [],
   "source": [
    "ll_graph.graph2dot(OUTPUT_FILENAME)"
   ]
  },
  {
   "cell_type": "code",
   "execution_count": null,
   "metadata": {
    "collapsed": false,
    "pycharm": {
     "name": "#%%\n"
    }
   },
   "outputs": [],
   "source": []
  }
 ],
 "metadata": {
  "kernelspec": {
   "display_name": "Python 3",
   "language": "python",
   "name": "python3"
  },
  "language_info": {
   "codemirror_mode": {
    "name": "ipython",
    "version": 3
   },
   "file_extension": ".py",
   "mimetype": "text/x-python",
   "name": "python",
   "nbconvert_exporter": "python",
   "pygments_lexer": "ipython3",
   "version": "3.10.9"
  },
  "vscode": {
   "interpreter": {
    "hash": "30295c5bec572e859485b1ffa5e89b8b3e2022ef6e3e739c1ac40f143a557caf"
   }
  }
 },
 "nbformat": 4,
 "nbformat_minor": 0
}
